{
    "cells": [
        {
            "cell_type": "markdown",
            "metadata": {
                "collapsed": true
            },
            "source": "# My Jupiter Notebook on IBM Watson Studio"
        },
        {
            "cell_type": "markdown",
            "metadata": {},
            "source": "**Mark Chung**\n"
        },
        {
            "cell_type": "markdown",
            "metadata": {},
            "source": "compliance engineer"
        },
        {
            "cell_type": "markdown",
            "metadata": {},
            "source": "*I am interested in data Science because I'd like to enhance my capability beyond my current speciality of the radio communication. Furthermore, machine learning, and artiticial intelligence*\n*are now growing and changing the way tradition machine behaves, so that it is better to discover the insights and then apply them to the field I've been currently working on*"
        },
        {
            "cell_type": "markdown",
            "metadata": {},
            "source": "### The simple code in Python to count each letters in message of the dictionary."
        },
        {
            "cell_type": "code",
            "execution_count": 1,
            "metadata": {},
            "outputs": [
                {
                    "name": "stdout",
                    "output_type": "stream",
                    "text": "{'M': 1, 'a': 1, 'c': 1, 'h': 1, 'i': 1, 'n': 1, 'e': 1, ' ': 1, 'L': 1, 'r': 1, 's': 1, 'f': 1, 'u': 1, 't': 1, 'o': 1}\n"
                }
            ],
            "source": "word = \"Machine Learn is fun to Learn\"\ncount = dict()\nfor a in word:\n    if a not in count:\n        count[a] = 1\n    else:\n        count[a]+1\nprint(count)\n    "
        },
        {
            "cell_type": "markdown",
            "metadata": {},
            "source": "## Horizontal Rule"
        },
        {
            "cell_type": "markdown",
            "metadata": {},
            "source": "Hyphens\n***\n"
        },
        {
            "cell_type": "markdown",
            "metadata": {},
            "source": "## Table"
        },
        {
            "cell_type": "markdown",
            "metadata": {},
            "source": "|The Field | Interested | Curriculm offering:|\n|----------|:----------:|-------------------:|\n|ML        |yes         |yes                 |\n|AI        |yes         |yes                 |\n|RF        |yes         |yes                 |\n|IOT       |yes         |yes                 |\n|Electronic|yes         |                    |\n"
        },
        {
            "cell_type": "markdown",
            "metadata": {},
            "source": "## Image of Hyperlink"
        },
        {
            "cell_type": "markdown",
            "metadata": {},
            "source": "The image of seagull link\n\n!https://commons.wikimedia.org/wiki/File:Gull_portrait_ca_usa.jpg\n"
        },
        {
            "cell_type": "markdown",
            "metadata": {},
            "source": "## code highlighting"
        },
        {
            "cell_type": "markdown",
            "metadata": {},
            "source": "```python\ns = \"syntax highlight\"\nprint s\n```"
        },
        {
            "cell_type": "markdown",
            "metadata": {},
            "source": "## Syntex Highlight"
        },
        {
            "cell_type": "markdown",
            "metadata": {},
            "source": "This assignment is about `combination` of `markdown`, and `code`"
        },
        {
            "cell_type": "markdown",
            "metadata": {},
            "source": "## Strikethrough"
        },
        {
            "cell_type": "markdown",
            "metadata": {},
            "source": "Strike Through\nI'm going to ~stike this line~ out"
        },
        {
            "cell_type": "markdown",
            "metadata": {},
            "source": "## Hyperlinks"
        },
        {
            "cell_type": "markdown",
            "metadata": {},
            "source": "\n<a href=\"url\">https://www.coursera.org/professional-certificates/ibm-data-science?utm_source=gg&utm_medium=sem&campaignid=2087860785&utm_campaign=10-IBM-Data-Science-ROW&utm_content=B2C&adgroupid=79675709271&device=c&keyword=ibm%20data%20science&matchtype=b&network=g&devicemodel=&adpostion=&creativeid=489197596485&hide_mobile_promo&gclid=CjwKCAjw9e6SBhB2EiwA5myr9hcu86dh36g16bbOCf9cyrjk2e-WZAFYfpZypdgXfeIUZvVUU2gbcxoC4WYQAvD_BwE</a>\n"
        },
        {
            "cell_type": "markdown",
            "metadata": {},
            "source": "## Blockquotes"
        },
        {
            "cell_type": "markdown",
            "metadata": {},
            "source": ">This assignment boost the skill of how\n>basics of rule in markdown shall be\n>apply"
        },
        {
            "cell_type": "code",
            "execution_count": null,
            "metadata": {},
            "outputs": [],
            "source": ""
        }
    ],
    "metadata": {
        "kernelspec": {
            "display_name": "Python 3.9",
            "language": "python",
            "name": "python3"
        },
        "language_info": {
            "codemirror_mode": {
                "name": "ipython",
                "version": 3
            },
            "file_extension": ".py",
            "mimetype": "text/x-python",
            "name": "python",
            "nbconvert_exporter": "python",
            "pygments_lexer": "ipython3",
            "version": "3.9.7"
        }
    },
    "nbformat": 4,
    "nbformat_minor": 1
}